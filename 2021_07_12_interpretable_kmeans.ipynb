{
 "cells": [
  {
   "cell_type": "markdown",
   "id": "95f17be0",
   "metadata": {},
   "source": [
    "# Interpretable K-Means: Cluster Feature Importance"
   ]
  },
  {
   "cell_type": "markdown",
   "id": "cc217691",
   "metadata": {},
   "source": [
    "# Motivation\n",
    "\n",
    "One of the tiresome problems when using unsupervised clustering methods is the unintuitive evaluation metrics and mapping that to your dataset. To elaborate by contradiction through supervised classification evaluation metrics: Accuracy, Precision, Recall, ...etc. can easily have an intuitive mapping to your dataset by saying: We have correctly classified X% samples out of all samples we have (Accuracy), we have correctly classified X% Positives out of all predicted positives (Precision), or we have correctly classified X% Positives out of all actual positives. \n",
    "\n",
    "Going back to evaluating unsupervised clustering algorithms, internal evaluation metrics (Where external information such as true labels are not used in the evaluation stage) are mostly used for comparison rather then an inherent and intuitive explanation of the clustering performance on the dataset at hand. Having an easy explanation of the model's performance is very crucial when communicating with stakeholders where most internal evaluation measure would not pass the ELI5 Test (Explain it Like I'm 5). Hence, interpreting why K-Mean has decided to cluster a certain group as such can be a great addition to your evaluation report "
   ]
  },
  {
   "cell_type": "markdown",
   "id": "a8da71d7",
   "metadata": {},
   "source": [
    "# K-Means Value\n",
    "Say that you are running a business which has thousands of customers, you would really want to know more about your customers albeit how many you have. You would never be able to study each customer and say cater a marketing campaign specifically for him/her. Each customer you have has different demographic (e.g. Age), Geographic (e.g. Region), Psychographic (e.g. Spending Habits)...etc. properties and you want to segment them into multiple similar groups in order to simplify the process of understanding who they are from the most prevalent properties of each group. The most popular algorithm to solve this problem, I am sure you guessed it! is K-Means; \"K\" will refer to the number of possible customer segments/groups/clusters and \"Means\" can be thought of as the center/Mean/centroid of each group in the K groups."
   ]
  },
  {
   "cell_type": "markdown",
   "id": "53c55275",
   "metadata": {},
   "source": [
    "# How K-Means Works - Short"
   ]
  },
  {
   "cell_type": "markdown",
   "id": "789014bc",
   "metadata": {},
   "source": [
    "K-Means is an unsupervised clustering algorithm that groups similar data samples together in one group away from dissimilar data samples. Strictly speaking, K-Means aims to minimize the Within Cluster Sum of Squares (WCSS) and consequently maximizing the Between Cluster Sum of Squares (BCSS). K-Means algorithm has different implementation and conceptual variation but for the sake of this article, let's focus on the most common method namely Lloyd's algorithm (Naive K-Means) which follows an iterative approach in order to find the sub-optimal solution.\n",
    "\n",
    "Let's prepare a simple dataset for explanation (If you already know how K-Means work, jump to the Interpretation section)"
   ]
  },
  {
   "cell_type": "code",
   "execution_count": 2,
   "id": "5cde4ab3",
   "metadata": {},
   "outputs": [],
   "source": [
    "import pandas as pd, numpy as np\n",
    "import matplotlib.pyplot as plt\n",
    "import seaborn as sns\n",
    "from sklearn.cluster import KMeans\n",
    "\n",
    "sns.set_theme(style=\"whitegrid\")"
   ]
  },
  {
   "cell_type": "code",
   "execution_count": 3,
   "id": "3fa0a10b",
   "metadata": {},
   "outputs": [
    {
     "data": {
      "text/html": [
       "<div>\n",
       "<style scoped>\n",
       "    .dataframe tbody tr th:only-of-type {\n",
       "        vertical-align: middle;\n",
       "    }\n",
       "\n",
       "    .dataframe tbody tr th {\n",
       "        vertical-align: top;\n",
       "    }\n",
       "\n",
       "    .dataframe thead th {\n",
       "        text-align: right;\n",
       "    }\n",
       "</style>\n",
       "<table border=\"1\" class=\"dataframe\">\n",
       "  <thead>\n",
       "    <tr style=\"text-align: right;\">\n",
       "      <th></th>\n",
       "      <th>Sample Name</th>\n",
       "      <th>Feature1</th>\n",
       "      <th>Feature2</th>\n",
       "    </tr>\n",
       "  </thead>\n",
       "  <tbody>\n",
       "    <tr>\n",
       "      <th>0</th>\n",
       "      <td>Sample 0</td>\n",
       "      <td>6</td>\n",
       "      <td>5</td>\n",
       "    </tr>\n",
       "    <tr>\n",
       "      <th>1</th>\n",
       "      <td>Sample 1</td>\n",
       "      <td>5</td>\n",
       "      <td>6</td>\n",
       "    </tr>\n",
       "    <tr>\n",
       "      <th>2</th>\n",
       "      <td>Sample 2</td>\n",
       "      <td>1</td>\n",
       "      <td>2</td>\n",
       "    </tr>\n",
       "    <tr>\n",
       "      <th>3</th>\n",
       "      <td>Sample 3</td>\n",
       "      <td>2</td>\n",
       "      <td>1</td>\n",
       "    </tr>\n",
       "    <tr>\n",
       "      <th>4</th>\n",
       "      <td>Sample 4</td>\n",
       "      <td>3</td>\n",
       "      <td>4</td>\n",
       "    </tr>\n",
       "    <tr>\n",
       "      <th>5</th>\n",
       "      <td>Sample 5</td>\n",
       "      <td>4</td>\n",
       "      <td>3</td>\n",
       "    </tr>\n",
       "  </tbody>\n",
       "</table>\n",
       "</div>"
      ],
      "text/plain": [
       "  Sample Name  Feature1  Feature2\n",
       "0    Sample 0         6         5\n",
       "1    Sample 1         5         6\n",
       "2    Sample 2         1         2\n",
       "3    Sample 3         2         1\n",
       "4    Sample 4         3         4\n",
       "5    Sample 5         4         3"
      ]
     },
     "execution_count": 3,
     "metadata": {},
     "output_type": "execute_result"
    }
   ],
   "source": [
    "df = pd.DataFrame({\n",
    "    \"Sample Name\": [\"Sample \"+str(i) for i in range(6)],\n",
    "    \"Feature1\": [6, 5, 1, 2, 3, 4],\n",
    "    \"Feature2\": [5, 6, 2, 1, 4, 3],\n",
    "})\n",
    "df"
   ]
  },
  {
   "cell_type": "code",
   "execution_count": 4,
   "id": "11731233",
   "metadata": {
    "scrolled": false
   },
   "outputs": [
    {
     "data": {
      "image/png": "[encoded data removed]",
      "text/plain": [
       "<Figure size 1152x432 with 1 Axes>"
      ]
     },
     "metadata": {},
     "output_type": "display_data"
    }
   ],
   "source": [
    "plt.figure(figsize=(16, 6))\n",
    "ax = sns.scatterplot(data=df, x=\"Feature1\", y=\"Feature2\", s=200)\n",
    "ax.set_title(\"Points to Cluster\", fontsize='xx-large', y=1.05);"
   ]
  },
  {
   "cell_type": "markdown",
   "id": "44a543e7",
   "metadata": {},
   "source": [
    "#### Step 1 - Choose Initial Number of Groups/Clusters (K)\n",
    "Each group is represented by a centroid; The mean of all data points assigned to a certain cluster centroid. Choosing an initial number of groups is synonymous to choosing an initial number of centroids K. We can decide on $K = 3$ and simply choose 3 distinct data points randomly from the dataset as our initial centroids (There are better methods to choose the initial coordinates of each centroid). "
   ]
  },
  {
   "cell_type": "markdown",
   "id": "32185d86",
   "metadata": {},
   "source": [
    "![Figure 2](./images/fig_2.png)"
   ]
  },
  {
   "cell_type": "markdown",
   "id": "0ba27b83",
   "metadata": {},
   "source": [
    "#### Step 2 - Data points assignments to clusters (Centroids)\n",
    "We have to assign each data point in our dataset to the closest centroid using the most commonly used distance metric through the following steps\n",
    "\n",
    "1. Calculate the Euclidean distance between each centroid and all data points using the equation below for each $j$-th cluster centroid $C_{j}$ and one point $p$ for a dataset that has $d$-Dimensions. (Note: Do not confuse my usage of $C_j$ = $\\mu_{C_j}$, as I'm only simplifying the equations since all equations are in a single cluster level)"
   ]
  },
  {
   "cell_type": "markdown",
   "id": "ff88869d",
   "metadata": {},
   "source": [
    "<center>\n",
    "    <font size=\"5\">\n",
    "$distance\\left( C_j,p\\right)   = \\sqrt {\\sum _{i=1}^{d}  \\left( C_{ji}-p_{i}\\right)^2 }$\n",
    "    </font>\n",
    "</center>"
   ]
  },
  {
   "cell_type": "markdown",
   "id": "41c429e5",
   "metadata": {},
   "source": [
    "2. In order to minimize the WCSS, we assign each data point to its closest centroid (Most similar / Least Distant). \n",
    "\n",
    "    The reason why this will be a WCSS minimization step is from the equation for one cluster's $WCSS$ with $p_m$ number of points assigned to cluster $C_j$ where the shorter the distance for the points assigned to the cluster, the smaller its WCSS. "
   ]
  },
  {
   "cell_type": "markdown",
   "id": "449e61d8",
   "metadata": {},
   "source": [
    "<center>\n",
    "    <font size=\"5\">\n",
    "$WCSS( C_j) = \\sum\\limits_{p_i=1 \\; \\in \\; C_j}^{p_m}distance  ( C_{j} , p_{i})^2 $\n",
    "    </font>\n",
    "</center>"
   ]
  },
  {
   "cell_type": "markdown",
   "id": "fbe7c323",
   "metadata": {},
   "source": [
    "![Figure 3](./images/fig_3.png)"
   ]
  },
  {
   "cell_type": "markdown",
   "id": "c6398b3e",
   "metadata": {},
   "source": [
    "#### Step 3 - Update cluster centroid coordinates\n",
    "Simply calculate the mean of each data point that belongs to a cluster and set the new cluster centroid to that new mean and repeat step 2 and 3 until the mean (Centroid) stops changing \n",
    "\n",
    "1. Calculate the mean of cluster data points\n",
    "2. Set the new cluster centroid for the new mean\n",
    "3. Repeat step 2 and 3 until the centroid does not change\n",
    "\n",
    "We will end up with the following where you can by yourself take for example, `Sample 0` and `Sample 1` features, calculate their mean and then check if it equals to `Cluster Centroid D1` and `Cluster Centroid D2`"
   ]
  },
  {
   "cell_type": "code",
   "execution_count": 5,
   "id": "98c699ff",
   "metadata": {},
   "outputs": [
    {
     "data": {
      "text/html": [
       "<div>\n",
       "<style scoped>\n",
       "    .dataframe tbody tr th:only-of-type {\n",
       "        vertical-align: middle;\n",
       "    }\n",
       "\n",
       "    .dataframe tbody tr th {\n",
       "        vertical-align: top;\n",
       "    }\n",
       "\n",
       "    .dataframe thead th {\n",
       "        text-align: right;\n",
       "    }\n",
       "</style>\n",
       "<table border=\"1\" class=\"dataframe\">\n",
       "  <thead>\n",
       "    <tr style=\"text-align: right;\">\n",
       "      <th></th>\n",
       "      <th>Sample Name</th>\n",
       "      <th>Feature1</th>\n",
       "      <th>Feature2</th>\n",
       "      <th>Cluster</th>\n",
       "      <th>Cluster Centroid D1</th>\n",
       "      <th>Cluster Centroid D2</th>\n",
       "    </tr>\n",
       "  </thead>\n",
       "  <tbody>\n",
       "    <tr>\n",
       "      <th>0</th>\n",
       "      <td>Sample 0</td>\n",
       "      <td>6</td>\n",
       "      <td>5</td>\n",
       "      <td>2</td>\n",
       "      <td>5.5</td>\n",
       "      <td>5.5</td>\n",
       "    </tr>\n",
       "    <tr>\n",
       "      <th>1</th>\n",
       "      <td>Sample 1</td>\n",
       "      <td>5</td>\n",
       "      <td>6</td>\n",
       "      <td>2</td>\n",
       "      <td>5.5</td>\n",
       "      <td>5.5</td>\n",
       "    </tr>\n",
       "    <tr>\n",
       "      <th>2</th>\n",
       "      <td>Sample 2</td>\n",
       "      <td>1</td>\n",
       "      <td>2</td>\n",
       "      <td>1</td>\n",
       "      <td>1.5</td>\n",
       "      <td>1.5</td>\n",
       "    </tr>\n",
       "    <tr>\n",
       "      <th>3</th>\n",
       "      <td>Sample 3</td>\n",
       "      <td>2</td>\n",
       "      <td>1</td>\n",
       "      <td>1</td>\n",
       "      <td>1.5</td>\n",
       "      <td>1.5</td>\n",
       "    </tr>\n",
       "    <tr>\n",
       "      <th>4</th>\n",
       "      <td>Sample 4</td>\n",
       "      <td>3</td>\n",
       "      <td>4</td>\n",
       "      <td>0</td>\n",
       "      <td>3.5</td>\n",
       "      <td>3.5</td>\n",
       "    </tr>\n",
       "    <tr>\n",
       "      <th>5</th>\n",
       "      <td>Sample 5</td>\n",
       "      <td>4</td>\n",
       "      <td>3</td>\n",
       "      <td>0</td>\n",
       "      <td>3.5</td>\n",
       "      <td>3.5</td>\n",
       "    </tr>\n",
       "  </tbody>\n",
       "</table>\n",
       "</div>"
      ],
      "text/plain": [
       "  Sample Name  Feature1  Feature2  Cluster  Cluster Centroid D1  \\\n",
       "0    Sample 0         6         5        2                  5.5   \n",
       "1    Sample 1         5         6        2                  5.5   \n",
       "2    Sample 2         1         2        1                  1.5   \n",
       "3    Sample 3         2         1        1                  1.5   \n",
       "4    Sample 4         3         4        0                  3.5   \n",
       "5    Sample 5         4         3        0                  3.5   \n",
       "\n",
       "   Cluster Centroid D2  \n",
       "0                  5.5  \n",
       "1                  5.5  \n",
       "2                  1.5  \n",
       "3                  1.5  \n",
       "4                  3.5  \n",
       "5                  3.5  "
      ]
     },
     "execution_count": 5,
     "metadata": {},
     "output_type": "execute_result"
    }
   ],
   "source": [
    "kms = KMeans(n_clusters=3, random_state=1).fit(df[['Feature1', 'Feature2']])\n",
    "df['Cluster'] = kms.labels_\n",
    "df['Cluster Centroid D1'] = df['Cluster'].apply(lambda label: kms.cluster_centers_[label][0])\n",
    "df['Cluster Centroid D2'] = df['Cluster'].apply(lambda label: kms.cluster_centers_[label][1])\n",
    "df"
   ]
  },
  {
   "cell_type": "markdown",
   "id": "ea5bc280",
   "metadata": {},
   "source": [
    "This is how the data looks like after K-Means clustering"
   ]
  },
  {
   "cell_type": "code",
   "execution_count": 6,
   "id": "5db18f11",
   "metadata": {},
   "outputs": [
    {
     "data": {
      "image/png": "[encoded data removed]",
      "text/plain": [
       "<Figure size 1152x432 with 1 Axes>"
      ]
     },
     "metadata": {},
     "output_type": "display_data"
    }
   ],
   "source": [
    "plt.figure(figsize=(16, 6))\n",
    "colors = [\"#A181E0\", \"#E08181\", \"#599988\"]\n",
    "ax = sns.scatterplot(data=df, x=\"Feature1\", y=\"Feature2\", hue='Cluster', \n",
    "                     s=200, palette=colors, legend=True)\n",
    "ax = sns.scatterplot(data=df, x=\"Cluster Centroid D1\", y=\"Cluster Centroid D2\", hue='Cluster', \n",
    "                     s=1000, palette=colors, legend=False, alpha=0.1)\n",
    "\n",
    "plt.legend(loc='lower right', title='Cluster')\n",
    "ax.set_title(\"Clustered Points\", fontsize='xx-large', y=1.05);"
   ]
  },
  {
   "cell_type": "markdown",
   "id": "b8fed298",
   "metadata": {},
   "source": [
    "# Interpretation  "
   ]
  },
  {
   "cell_type": "markdown",
   "id": "3dbe498b",
   "metadata": {},
   "source": [
    "## WCSS Minimizer `1st`\n",
    "_Disclaimer: The author has developed this method. Please do not hesitate to cite any references if found or criticize the methodology_\n",
    "\n",
    "The method is a direct analysis of each centroid's sub-optimal position. Since K-Means aim is to minimize the Within-Cluster Sum of Squares and assuming that the distance metric used is euclidean: We try to find the feature that was responsible for the highest amount of WCSS (The sum of squares of each data point distance to its cluster centroid) minimization through finding the maximum absolute centroid dimensional movement. \n",
    " \n",
    "\n",
    "Let's take the same example we have used:"
   ]
  },
  {
   "cell_type": "markdown",
   "id": "af03a6c7",
   "metadata": {},
   "source": [
    "### Explanation"
   ]
  },
  {
   "cell_type": "code",
   "execution_count": 7,
   "id": "c407bf02",
   "metadata": {},
   "outputs": [
    {
     "data": {
      "text/html": [
       "<div>\n",
       "<style scoped>\n",
       "    .dataframe tbody tr th:only-of-type {\n",
       "        vertical-align: middle;\n",
       "    }\n",
       "\n",
       "    .dataframe tbody tr th {\n",
       "        vertical-align: top;\n",
       "    }\n",
       "\n",
       "    .dataframe thead th {\n",
       "        text-align: right;\n",
       "    }\n",
       "</style>\n",
       "<table border=\"1\" class=\"dataframe\">\n",
       "  <thead>\n",
       "    <tr style=\"text-align: right;\">\n",
       "      <th></th>\n",
       "      <th>Sample Name</th>\n",
       "      <th>Feature1</th>\n",
       "      <th>Feature2</th>\n",
       "    </tr>\n",
       "  </thead>\n",
       "  <tbody>\n",
       "    <tr>\n",
       "      <th>0</th>\n",
       "      <td>Sample 0</td>\n",
       "      <td>6</td>\n",
       "      <td>5</td>\n",
       "    </tr>\n",
       "    <tr>\n",
       "      <th>1</th>\n",
       "      <td>Sample 1</td>\n",
       "      <td>5</td>\n",
       "      <td>6</td>\n",
       "    </tr>\n",
       "    <tr>\n",
       "      <th>2</th>\n",
       "      <td>Sample 2</td>\n",
       "      <td>1</td>\n",
       "      <td>2</td>\n",
       "    </tr>\n",
       "    <tr>\n",
       "      <th>3</th>\n",
       "      <td>Sample 3</td>\n",
       "      <td>2</td>\n",
       "      <td>1</td>\n",
       "    </tr>\n",
       "    <tr>\n",
       "      <th>4</th>\n",
       "      <td>Sample 4</td>\n",
       "      <td>3</td>\n",
       "      <td>4</td>\n",
       "    </tr>\n",
       "    <tr>\n",
       "      <th>5</th>\n",
       "      <td>Sample 5</td>\n",
       "      <td>4</td>\n",
       "      <td>3</td>\n",
       "    </tr>\n",
       "  </tbody>\n",
       "</table>\n",
       "</div>"
      ],
      "text/plain": [
       "  Sample Name  Feature1  Feature2\n",
       "0    Sample 0         6         5\n",
       "1    Sample 1         5         6\n",
       "2    Sample 2         1         2\n",
       "3    Sample 3         2         1\n",
       "4    Sample 4         3         4\n",
       "5    Sample 5         4         3"
      ]
     },
     "execution_count": 7,
     "metadata": {},
     "output_type": "execute_result"
    }
   ],
   "source": [
    "df = pd.DataFrame({\n",
    "    \"Sample Name\": [\"Sample \"+str(i) for i in range(6)],\n",
    "    \"Feature1\": [6, 5, 1, 2, 3, 4],\n",
    "    \"Feature2\": [5, 6, 2, 1, 4, 3],\n",
    "})\n",
    "df"
   ]
  },
  {
   "cell_type": "markdown",
   "id": "acc3813a",
   "metadata": {},
   "source": [
    "These are the cluster centroids that has been chosen through K-Means algorithm application above"
   ]
  },
  {
   "cell_type": "code",
   "execution_count": 8,
   "id": "e314854e",
   "metadata": {},
   "outputs": [],
   "source": [
    "kms = KMeans(n_clusters=3, random_state=1).fit(df[['Feature1', 'Feature2']])\n",
    "df['Cluster'] = kms.labels_"
   ]
  },
  {
   "cell_type": "code",
   "execution_count": 9,
   "id": "247478bd",
   "metadata": {},
   "outputs": [
    {
     "name": "stdout",
     "output_type": "stream",
     "text": [
      "[[3.5 3.5]\n",
      " [1.5 1.5]\n",
      " [5.5 5.5]]\n"
     ]
    }
   ],
   "source": [
    "centroids = kms.cluster_centers_\n",
    "print(f\"{centroids}\")"
   ]
  },
  {
   "cell_type": "markdown",
   "id": "12486ca4",
   "metadata": {},
   "source": [
    "The features that were used will be"
   ]
  },
  {
   "cell_type": "code",
   "execution_count": 10,
   "id": "89cbe181",
   "metadata": {},
   "outputs": [
    {
     "name": "stdout",
     "output_type": "stream",
     "text": [
      "['Feature1', 'Feature2']\n"
     ]
    }
   ],
   "source": [
    "features = df.columns.tolist()[1:-1]\n",
    "print(f\"{features}\")"
   ]
  },
  {
   "cell_type": "markdown",
   "id": "159cd714",
   "metadata": {},
   "source": [
    "![Figure 5](./images/fig_5.png)"
   ]
  },
  {
   "cell_type": "markdown",
   "id": "89b71be6",
   "metadata": {},
   "source": [
    "Now let's take each centroid and sort its dimensions, you will need to take the absolute value of if you have negative features"
   ]
  },
  {
   "cell_type": "code",
   "execution_count": 11,
   "id": "1aadad1b",
   "metadata": {},
   "outputs": [
    {
     "name": "stdout",
     "output_type": "stream",
     "text": [
      "Sorted Feature/Dimension Indexes for Each Centroid in Descending Order: \n",
      "[[1 0]\n",
      " [1 0]\n",
      " [1 0]]\n",
      "\n",
      "Sorted Feature/Dimension Values for Each Centroid in Descending Order: \n",
      "[[3.5 3.5]\n",
      " [1.5 1.5]\n",
      " [5.5 5.5]]\n"
     ]
    }
   ],
   "source": [
    "sorted_centroid_features_idx = centroids.argsort(axis=1)[:,::-1]\n",
    "print(f\"Sorted Feature/Dimension Indexes for Each Centroid in Descending Order: \\n{sorted_centroid_features_idx}\")\n",
    "\n",
    "print()\n",
    "\n",
    "sorted_centroid_features = np.take_along_axis(centroids, sorted_centroid_features_idx, axis=1)\n",
    "print(f\"Sorted Feature/Dimension Values for Each Centroid in Descending Order: \\n{sorted_centroid_features}\")"
   ]
  },
  {
   "cell_type": "markdown",
   "id": "f5c07aeb",
   "metadata": {},
   "source": [
    "Let's take the first feature/dimension with sorted weights (Centroid distance traveled on feature plane)"
   ]
  },
  {
   "cell_type": "code",
   "execution_count": 12,
   "id": "4c97b7e3",
   "metadata": {},
   "outputs": [
    {
     "name": "stdout",
     "output_type": "stream",
     "text": [
      "[3.5 3.5]\n"
     ]
    }
   ],
   "source": [
    "first_feat_in_centroid_1 = centroids[0][sorted_centroid_features_idx[0]]\n",
    "print(f\"{first_feat_in_centroid_1}\")"
   ]
  },
  {
   "cell_type": "markdown",
   "id": "23ac3b80",
   "metadata": {},
   "source": [
    "Let's map that to feature names with their weights which will be our feature importances"
   ]
  },
  {
   "cell_type": "code",
   "execution_count": 13,
   "id": "7ae013fc",
   "metadata": {},
   "outputs": [
    {
     "name": "stdout",
     "output_type": "stream",
     "text": [
      "[('Feature2', 3.5), ('Feature1', 3.5)]\n"
     ]
    }
   ],
   "source": [
    "print(list(\n",
    "        zip(\n",
    "            [features[feature] for feature in sorted_centroid_features_idx[0]], \n",
    "            first_feat_in_centroid_1\n",
    "        )\n",
    "    ))"
   ]
  },
  {
   "cell_type": "markdown",
   "id": "5b793d73",
   "metadata": {},
   "source": [
    "Since the centroid have moved with equal distances through both dimensions, the features will be of equal importance. Let's give the last two samples (Belonging to cluster 0) a nudge on the first dimension and repeat the same process"
   ]
  },
  {
   "cell_type": "code",
   "execution_count": 14,
   "id": "1f61648f",
   "metadata": {},
   "outputs": [],
   "source": [
    "df.loc[[4,5], [\"Feature1\"]] += df.loc[[4,5], [\"Feature1\"]] + 30\n",
    "\n",
    "# ... Repeated code above ... #\n",
    "kms = KMeans(n_clusters=3, random_state=1).fit(df[['Feature1', 'Feature2']])\n",
    "df['Cluster'] = kms.labels_\n",
    "df['Cluster Centroid D1'] = df['Cluster'].apply(lambda label: kms.cluster_centers_[label][0])\n",
    "df['Cluster Centroid D2'] = df['Cluster'].apply(lambda label: kms.cluster_centers_[label][1])\n",
    "features = df.columns.tolist()[1:-1]\n",
    "centroids = kms.cluster_centers_\n",
    "sorted_centroid_features_idx = centroids.argsort(axis=1)[:,::-1]\n",
    "sorted_centroid_features = np.take_along_axis(centroids, sorted_centroid_features_idx, axis=1)\n",
    "first_feat_in_centroid_1 = centroids[0][sorted_centroid_features_idx[0]]\n",
    "# ... Repeated code above ... #"
   ]
  },
  {
   "cell_type": "code",
   "execution_count": 15,
   "id": "4e8cf876",
   "metadata": {},
   "outputs": [
    {
     "data": {
      "text/plain": [
       "array([[37. ,  3.5],\n",
       "       [ 5.5,  5.5],\n",
       "       [ 1.5,  1.5]])"
      ]
     },
     "execution_count": 15,
     "metadata": {},
     "output_type": "execute_result"
    }
   ],
   "source": [
    "kms.cluster_centers_"
   ]
  },
  {
   "cell_type": "code",
   "execution_count": 16,
   "id": "f5e30c1e",
   "metadata": {},
   "outputs": [],
   "source": [
    "# plt.figure(figsize=(16, 6))\n",
    "# colors = [\"#A181E0\", \"#599988\", \"#E08181\"]\n",
    "# ax = sns.scatterplot(data=df, x=\"Feature1\", y=\"Feature2\", hue='Cluster', \n",
    "#                      s=200, palette=colors, legend=False)\n",
    "# ax = sns.scatterplot(data=df, x=\"Cluster Centroid D1\", y=\"Cluster Centroid D2\", hue='Cluster', \n",
    "#                      s=1000, palette=colors, legend=False, alpha=0.1)\n",
    "\n",
    "# ax.set(xlim=(0, 40), ylim=(0,10))\n",
    "\n",
    "# ax.set_title(\"Clustered Points\", fontsize='xx-large', y=1.05);"
   ]
  },
  {
   "cell_type": "markdown",
   "id": "fdd6ba2a",
   "metadata": {},
   "source": [
    "![Figure 5](./images/fig_6.png)"
   ]
  },
  {
   "cell_type": "code",
   "execution_count": 17,
   "id": "cee3f4b1",
   "metadata": {},
   "outputs": [
    {
     "name": "stdout",
     "output_type": "stream",
     "text": [
      "[('Feature1', 37.0), ('Feature2', 3.5)]\n"
     ]
    }
   ],
   "source": [
    "print(list(\n",
    "        zip(\n",
    "            [features[feature] for feature in sorted_centroid_features_idx[0]], \n",
    "            first_feat_in_centroid_1\n",
    "        )\n",
    "    ))"
   ]
  },
  {
   "cell_type": "markdown",
   "id": "7b29bbd9",
   "metadata": {},
   "source": [
    "We can see that the first feature now has had a higher importance since the first cluster centroid has moved through its dimension more than the second feature; Thus, feature one has had a higher importance in minimizing the WCSS"
   ]
  },
  {
   "cell_type": "markdown",
   "id": "ed09b57e",
   "metadata": {},
   "source": [
    "### Real-Life Application\n",
    "I have chosen to apply the interpretation technique on an NLP problem since we can easily relate to the feature importances (words) which could be considered as a corpus-based keyword extraction technique where our aim is to cluster similar documents together using K-Means, and then apply the method above. The dataset I have used can be found here [Kaggle BBC-News](https://www.kaggle.com/c/learn-ai-bbc/data?select=BBC+News+Train.csv). This dataset presents a classification problem but we will exclude the category column at first (Sport, Business, Politics, Entertainment, and Technology News articles) and use it later as a proof-of-concept.\n",
    "\n",
    "As this article is not an NLP article, I won't be focusing on any NLP related tasks. Now, Let us see the distribution of classes in the dataset:"
   ]
  },
  {
   "cell_type": "code",
   "execution_count": 18,
   "id": "957aaa41",
   "metadata": {},
   "outputs": [
    {
     "data": {
      "image/png": "[encoded data removed]",
      "text/plain": [
       "<Figure size 1152x432 with 1 Axes>"
      ]
     },
     "metadata": {},
     "output_type": "display_data"
    }
   ],
   "source": [
    "df = pd.read_csv(\"../BBC News Train.csv\", encoding=\"utf-8\")\n",
    "categories = df['Category'].unique().tolist()\n",
    "\n",
    "category_distrib = df['Category'].value_counts()\n",
    "\n",
    "plt.figure(figsize=(16, 6))\n",
    "ax = sns.barplot(x=category_distrib.index, y=category_distrib.values)\n",
    "\n",
    "plt.setp(ax.xaxis.get_label(), fontsize='x-large');\n",
    "plt.setp(ax.yaxis.get_label(), fontsize='x-large');\n",
    "\n",
    "ax.set_title(\"BBC News Category Distribution\", fontsize=\"xx-large\", y=1.05)\n",
    "ax.set_xlabel(\"Categories\", fontsize=\"x-large\")\n",
    "ax.set_ylabel(\"Counts\", fontsize=\"x-large\")\n",
    "\n",
    "plt.setp(ax.get_xticklabels(), fontsize='x-large');\n",
    "plt.setp(ax.get_yticklabels(), fontsize='x-large');"
   ]
  },
  {
   "cell_type": "markdown",
   "id": "7a227c17",
   "metadata": {},
   "source": [
    "Quickly moving towards preprocessing the text to prepare the features. The code below is normalizing the words and filtering tokens (words or digits) that do not present a discriminatory power and thus redundant. "
   ]
  },
  {
   "cell_type": "code",
   "execution_count": 20,
   "id": "336d61ec",
   "metadata": {},
   "outputs": [],
   "source": [
    "import re\n",
    "import pandas as pd\n",
    "import nltk\n",
    "from nltk.tokenize import WordPunctTokenizer\n",
    "from nltk.corpus import stopwords\n",
    "from collections import Counter\n",
    "from nltk.stem import WordNetLemmatizer\n",
    "  \n",
    "lemmatizer = WordNetLemmatizer()\n",
    "\n",
    "with open(\"../stopwords.txt\", 'r') as f:\n",
    "    stopwords_ = Counter(f.read().split(\"\\n\"))\n",
    "    \n",
    "def word_tokenize(text):\n",
    "    tokenized_text = re.findall(r\"[~\\.,!?;’\\\":\\'؟،؛»«…‘-“”]|[\\w]+\", text)\n",
    "    tokenized_text_proc = [token.lower() for token in tokenized_text \n",
    "                           if  (not token.lower() in stopwords_) # Remove stopwords \n",
    "                           and (not len(token) <= 2)     # Remove short tokens\n",
    "                           and (not re.match(\"\\d+\", token))]    # Remove Digits\n",
    "    tokenized_text_proc = [lemmatizer.lemmatize(token) for token in tokenized_text_proc]\n",
    "    return tokenized_text_proc\n",
    "\n",
    "df['tokens'] = df['Text'].apply(word_tokenize)"
   ]
  },
  {
   "cell_type": "markdown",
   "id": "ba3ac9cd",
   "metadata": {},
   "source": [
    "These are the highest mentioned words in the whole news dataset"
   ]
  },
  {
   "cell_type": "code",
   "execution_count": 22,
   "id": "662e8d8a",
   "metadata": {},
   "outputs": [
    {
     "data": {
      "image/png": "[encoded data removed]",
      "text/plain": [
       "<Figure size 1152x432 with 1 Axes>"
      ]
     },
     "metadata": {},
     "output_type": "display_data"
    }
   ],
   "source": [
    "all_vocab = [token for sublist in df['tokens'].values for token in sublist]\n",
    "all_vocab_freq = Counter(all_vocab)\n",
    "all_vocab_freq_sorted = sorted(all_vocab_freq.items(), key=lambda x: x[1], reverse=True)\n",
    "vocab_df = pd.DataFrame(all_vocab_freq_sorted, columns = [\"Token\", \"Frequency\"])\n",
    "\n",
    "plt.figure(figsize=(16, 6))\n",
    "ax = sns.barplot(data=vocab_df.iloc[:20], \n",
    "                 x=\"Token\", y=\"Frequency\")\n",
    "ax.set_title(\"Total Vocab Frequency\", fontsize='xx-large', y=1.05)\n",
    "plt.setp(ax.xaxis.get_label(), fontsize='x-large');\n",
    "plt.setp(ax.yaxis.get_label(), fontsize='x-large');\n",
    "\n",
    "plt.setp(ax.get_xticklabels(), rotation=45, ha=\"right\", rotation_mode=\"anchor\", fontsize='x-large');\n",
    "plt.setp(ax.get_yticklabels(), fontsize='x-large');"
   ]
  },
  {
   "cell_type": "markdown",
   "id": "629dcd2a",
   "metadata": {},
   "source": [
    "Using TF-IDF (Text Representation Technique), we can convert the categorical variables (Words) we have into numerical representation. Remember to scale the features if you are applying K-Means on a data that has features of different units or ranges where this difference is not relevant to the problem. We do not need to scale the features here as TF-IDF normalizes features within its equation and its output should be used in its raw form"
   ]
  },
  {
   "cell_type": "code",
   "execution_count": 23,
   "id": "6671ba95",
   "metadata": {},
   "outputs": [],
   "source": [
    "from sklearn.feature_extraction.text import TfidfVectorizer\n",
    "cv = TfidfVectorizer(lowercase=False, tokenizer=lambda x:x, max_features=500)\n",
    "cv_matrix = cv.fit_transform(df['tokens'])"
   ]
  },
  {
   "cell_type": "markdown",
   "id": "0644c99b",
   "metadata": {},
   "source": [
    "Finally, now is the step we care about the most, I have wrapped up the method above in a class that inherits from sklearn.cluster.KMeans and can be used in the exact same way with the difference of having feature_importances_ property of which you will have to provide the features ordered in the same way as `X` parameter in the `fit` method to `ordered_feature_names` parameter when initializing the class. \n",
    "\n",
    "You can find the code here [kmeans-feature-importance](https://github.com/YousefGh/kmeans-feature-importance) and simply clone it like this in your favorite CLI\n"
   ]
  },
  {
   "cell_type": "code",
   "execution_count": 24,
   "id": "7f9fe572",
   "metadata": {},
   "outputs": [],
   "source": [
    "# ! git clone https://github.com/YousefGh/kmeans-feature-importance.git"
   ]
  },
  {
   "cell_type": "markdown",
   "id": "4aaf8c1f",
   "metadata": {},
   "source": [
    "Let's run K-Means algorithm"
   ]
  },
  {
   "cell_type": "code",
   "execution_count": 25,
   "id": "884298f3",
   "metadata": {},
   "outputs": [],
   "source": [
    "from kmeans_interp.kmeans_feature_imp import KMeansInterp\n",
    "\n",
    "kms = KMeansInterp(n_clusters=len(categories), \n",
    "                   random_state=1, \n",
    "                   ordered_feature_names=cv.get_feature_names(), \n",
    "                   feature_importance_method='wcss_min',\n",
    "                  ).fit(cv_matrix)\n",
    "labels = kms.labels_\n",
    "df['Cluster'] = labels"
   ]
  },
  {
   "cell_type": "markdown",
   "id": "a658cc00",
   "metadata": {},
   "source": [
    "Let's check if K-Means has produced a cluster distribution similar to the category distribution in the news dataset"
   ]
  },
  {
   "cell_type": "code",
   "execution_count": 26,
   "id": "ef41f9ed",
   "metadata": {},
   "outputs": [
    {
     "data": {
      "image/png": "[encoded data removed]",
      "text/plain": [
       "<Figure size 1152x432 with 2 Axes>"
      ]
     },
     "metadata": {},
     "output_type": "display_data"
    }
   ],
   "source": [
    "category_distrib = df['Category'].value_counts()\n",
    "cluster_distrib = df['Cluster'].value_counts()\n",
    "\n",
    "fig, axs = plt.subplots(1, 2, sharey=True, figsize=(16,6))\n",
    "fig.suptitle('Category Cluster Distribution', fontsize='xx-large', y=1.05)\n",
    "axs[0].set_title(\"Category Distribution\", fontsize='x-large', y=1.02)\n",
    "axs[1].set_title(\"Cluster Distribution\", fontsize='x-large', y=1.02)\n",
    "\n",
    "plt.setp(axs[0].get_xticklabels(), fontsize='large');\n",
    "plt.setp(axs[1].get_xticklabels(), fontsize='large');\n",
    "\n",
    "sns.barplot(x=category_distrib.index, y=category_distrib.values, ax=axs[0], color='b')\n",
    "sns.barplot(x=cluster_distrib.index, y=cluster_distrib.values, ax=axs[1], color='b');\n",
    "plt.setp(ax.get_xticklabels(), rotation=45, ha=\"right\", rotation_mode=\"anchor\", fontsize='large');"
   ]
  },
  {
   "cell_type": "markdown",
   "id": "900b51ca",
   "metadata": {},
   "source": [
    "That's a close enough distribution similarity to get us going. Don't forget to ensure that K-Means has produced accurate results through the usage of different internal validation indexes (I won't be going through them as this will be out-of-scope) and you probably will not be having labels so you will also need to choose the best K in K-Means.\n",
    "\n",
    "Onto the interpretation, we can access the feature_importances_ for the second cluster `cluster 1` as such:"
   ]
  },
  {
   "cell_type": "code",
   "execution_count": null,
   "id": "603e1a5e",
   "metadata": {},
   "outputs": [],
   "source": [
    "centroids = kms.cluster_centers_\n",
    "num_clusters = kms.n_clusters\n",
    "n_features = kms.n_features_in_\n",
    "centroids_labels = pd.DataFrame({\n",
    "    \"centroid_dim\": np.array([centroids[i] for i in range(len(centroids))]).flatten(),\n",
    "    \"cluster_label\": np.array([np.repeat(label, n_features) for label in range(num_clusters)]).flatten()\n",
    "})"
   ]
  },
  {
   "cell_type": "code",
   "execution_count": 99,
   "id": "c072c0a9",
   "metadata": {},
   "outputs": [
    {
     "data": {
      "text/plain": [
       "0      0.004781\n",
       "1      0.016519\n",
       "2      0.003017\n",
       "3      0.011319\n",
       "4      0.000340\n",
       "         ...   \n",
       "495    0.024114\n",
       "496    0.062638\n",
       "497    0.011489\n",
       "498    0.001591\n",
       "499    0.026485\n",
       "Name: centroid_dim, Length: 500, dtype: float64"
      ]
     },
     "execution_count": 99,
     "metadata": {},
     "output_type": "execute_result"
    }
   ],
   "source": [
    "centroids_labels[centroids_labels['cluster_label'] == 0]['centroid_dim']\n"
   ]
  },
  {
   "cell_type": "code",
   "execution_count": 151,
   "id": "5e832a25",
   "metadata": {},
   "outputs": [
    {
     "data": {
      "image/png": "[encoded data removed]",
      "text/plain": [
       "<Figure size 1080x360 with 6 Axes>"
      ]
     },
     "metadata": {},
     "output_type": "display_data"
    }
   ],
   "source": [
    "fig, axes = plt.subplots(2, 3, figsize=(15, 5), sharey=True)\n",
    "fig.suptitle('Centroid Dimensional Values', fontsize='xx-large');\n",
    "\n",
    "for cluster_label in range(kms.n_clusters):\n",
    "    try: \n",
    "        sns.histplot(x=kms.cluster_centers_[cluster_label], element=\"step\", \n",
    "                     ax=axes[0][cluster_label], bins=kms.n_features_in_//20); \n",
    "        axes[0][cluster_label].set_title(f\"Cluster {cluster_label}\", fontsize='x-large', y=0.7)\n",
    "    except IndexError:\n",
    "        sns.histplot(x=kms.cluster_centers_[cluster_label], element=\"step\", \n",
    "                     ax=axes[1][cluster_label-3], bins=kms.n_features_in_//20); \n",
    "        axes[1][cluster_label-3].set_title(f\"Cluster {cluster_label}\", fontsize='x-large', y=0.7)"
   ]
  },
  {
   "cell_type": "code",
   "execution_count": 27,
   "id": "b6a50472",
   "metadata": {},
   "outputs": [
    {
     "data": {
      "text/plain": [
       "[('film', 0.39589216529770005),\n",
       " ('award', 0.1605575985825074),\n",
       " ('actor', 0.1261907408383797),\n",
       " ('oscar', 0.1178746877093894),\n",
       " ('star', 0.1048044246433086),\n",
       " ('actress', 0.08057805821737318),\n",
       " ('movie', 0.07849181814402928),\n",
       " ('director', 0.07750076034520005),\n",
       " ('year', 0.05714139742209184),\n",
       " ('won', 0.055986078197240656)]"
      ]
     },
     "execution_count": 27,
     "metadata": {},
     "output_type": "execute_result"
    }
   ],
   "source": [
    "kms.feature_importances_[1][:10]"
   ]
  },
  {
   "cell_type": "markdown",
   "id": "9b259678",
   "metadata": {},
   "source": [
    "Let us take a look at all clusters and try to make sense out of it by mapping them to the actual labels (News categories)"
   ]
  },
  {
   "cell_type": "code",
   "execution_count": 32,
   "id": "5e236d5c",
   "metadata": {
    "scrolled": false
   },
   "outputs": [],
   "source": [
    "for cluster_label, feature_weights in kms.feature_importances_.items():    \n",
    "    df_feature_weight = pd.DataFrame(feature_weights[:15], columns=[\"Feature\", \"Weight\"])\n",
    "    fig, ax = plt.subplots(figsize=(14,6))\n",
    "    sns.barplot(x=\"Feature\", y=\"Weight\", data=df_feature_weight)\n",
    "    plt.xticks(rotation=-45, ha=\"left\");\n",
    "    ax.tick_params(axis='both', which='major', labelsize=22)\n",
    "    plt.title(f'Highest Weight Features in Cluster {cluster_label}', fontsize='xx-large')\n",
    "    plt.xlabel('Feature', fontsize=18)\n",
    "    plt.ylabel('Weight', fontsize=18)\n",
    "\n",
    "    plt.show();\n",
    "    \n",
    "    print('\\n\\n')"
   ]
  },
  {
   "cell_type": "markdown",
   "id": "0448a510",
   "metadata": {},
   "source": [
    "![Figure 5](./images/cat_distrib.png)"
   ]
  },
  {
   "cell_type": "markdown",
   "id": "8d3efc7b",
   "metadata": {},
   "source": [
    "![Figure 5](./images/politics_tech_business_enter_cs.png)"
   ]
  },
  {
   "cell_type": "markdown",
   "id": "40100348",
   "metadata": {},
   "source": [
    "![Figure 5](./images/sports_cs.png)"
   ]
  },
  {
   "cell_type": "markdown",
   "id": "418b351b",
   "metadata": {},
   "source": [
    "## Interpret `2nd` - Unsupervised 2 Supervised\n",
    "\n",
    "Another interpretation approach is to convert the unsupervised classification problem into a supervised classification settings using an easily interpretable model such as tree-based models (We will be using a Random Forest Classifier). The steps to do this is as follows:\n",
    "\n",
    "1. Change the cluster labels into  One-vs-All for each label\n",
    "2. Train a classifier to discriminate between each cluster and all other clusters\n",
    "3. Simply extract the feature importances from the model (We will be using `sklearn.ensemble.RandomForestClassifier`)"
   ]
  },
  {
   "cell_type": "markdown",
   "id": "dd985ba9",
   "metadata": {},
   "source": [
    "![Figure 5](./images/unsup2sup.png)"
   ]
  },
  {
   "cell_type": "markdown",
   "id": "9397a14a",
   "metadata": {},
   "source": [
    "### Explanation"
   ]
  },
  {
   "cell_type": "markdown",
   "id": "adedf49f",
   "metadata": {},
   "source": [
    "Let's set cluster 0 label as 1 and set all other cluster labels as 0's"
   ]
  },
  {
   "cell_type": "code",
   "execution_count": 12,
   "id": "7d701507",
   "metadata": {},
   "outputs": [
    {
     "name": "stdout",
     "output_type": "stream",
     "text": [
      "0    2\n",
      "1    2\n",
      "2    2\n",
      "Name: Cluster, dtype: int64\n",
      "\n",
      "0    4\n",
      "1    2\n",
      "Name: Binary Cluster 0, dtype: int64\n"
     ]
    }
   ],
   "source": [
    "print(df['Cluster'].value_counts())\n",
    "df['Binary Cluster 0'] = df['Cluster'].map({0:1, 1:0, 2:0})\n",
    "print()\n",
    "print(df[\"Binary Cluster 0\"].value_counts())"
   ]
  },
  {
   "cell_type": "code",
   "execution_count": 16,
   "id": "c6b673b7",
   "metadata": {},
   "outputs": [
    {
     "data": {
      "text/plain": [
       "RandomForestClassifier(random_state=1)"
      ]
     },
     "execution_count": 16,
     "metadata": {},
     "output_type": "execute_result"
    }
   ],
   "source": [
    "from sklearn.ensemble import RandomForestClassifier\n",
    "clf = RandomForestClassifier(random_state=1)\n",
    "clf.fit(df[['Feature1', 'Feature2']].values, df[\"Binary Cluster 0\"].values)"
   ]
  },
  {
   "cell_type": "markdown",
   "id": "8515cfcc",
   "metadata": {},
   "source": [
    "Using `feature_importances_` method to get the features that has the most discriminatory power between all clusters and the targeted cluster. One important note is that this approach finds what discriminates between two clusters and not at all inherent to the targeted cluster"
   ]
  },
  {
   "cell_type": "code",
   "execution_count": 24,
   "id": "fc96be04",
   "metadata": {},
   "outputs": [
    {
     "data": {
      "text/plain": [
       "[('Feature1', 0.5900000000000001), ('Feature2', 0.41)]"
      ]
     },
     "execution_count": 24,
     "metadata": {},
     "output_type": "execute_result"
    }
   ],
   "source": [
    "sorted_feature_weight_idxes = np.argsort(clf.feature_importances_)[::-1]\n",
    "most_important_features = np.take_along_axis(np.array(df.iloc[:, 1:3].columns.tolist()), sorted_feature_weight_idxes, axis=0)\n",
    "most_important_weights = np.take_along_axis(np.array(clf.feature_importances_), sorted_feature_weight_idxes, axis=0)\n",
    "list(zip(most_important_features, most_important_weights))"
   ]
  },
  {
   "cell_type": "markdown",
   "id": "1d2c0cbe",
   "metadata": {},
   "source": [
    "### Real-Life application"
   ]
  },
  {
   "cell_type": "markdown",
   "id": "7d1ff619",
   "metadata": {},
   "source": [
    "Let's convert cluster 0 label as 1 and set all other cluster labels as 0's"
   ]
  },
  {
   "cell_type": "code",
   "execution_count": 34,
   "id": "a1d96474",
   "metadata": {},
   "outputs": [
    {
     "name": "stdout",
     "output_type": "stream",
     "text": [
      "2    407\n",
      "4    366\n",
      "0    357\n",
      "3    233\n",
      "1    127\n",
      "Name: Cluster, dtype: int64\n",
      "\n",
      "0    1133\n",
      "1     357\n",
      "Name: Binary Cluster 0, dtype: int64\n"
     ]
    }
   ],
   "source": [
    "print(df['Cluster'].value_counts())\n",
    "df['Binary Cluster 0'] = df['Cluster'].map({0:1, 1:0, 2:0, 3:0, 4:0})\n",
    "print()\n",
    "print(df[\"Binary Cluster 0\"].value_counts())"
   ]
  },
  {
   "cell_type": "markdown",
   "id": "4b0b8fc7",
   "metadata": {},
   "source": [
    "We can now train the classifier on the converted binary problem"
   ]
  },
  {
   "cell_type": "code",
   "execution_count": 35,
   "id": "522b9383",
   "metadata": {},
   "outputs": [
    {
     "data": {
      "text/plain": [
       "RandomForestClassifier(random_state=1)"
      ]
     },
     "execution_count": 35,
     "metadata": {},
     "output_type": "execute_result"
    }
   ],
   "source": [
    "from sklearn.ensemble import RandomForestClassifier\n",
    "clf = RandomForestClassifier(random_state=1)\n",
    "clf.fit(cv_matrix, df[\"Binary Cluster 0\"].values)"
   ]
  },
  {
   "cell_type": "markdown",
   "id": "5f285624",
   "metadata": {},
   "source": [
    "Using `feature_importances_` method to get the features that has the most discriminatory power between all clusters and the targeted cluster. One important note is that this approach finds what discriminates between two clusters and not at all inherent to the targeted cluster"
   ]
  },
  {
   "cell_type": "code",
   "execution_count": 36,
   "id": "9d3e5186",
   "metadata": {},
   "outputs": [
    {
     "data": {
      "text/plain": [
       "[('market', 0.04638902115153533),\n",
       " ('share', 0.039556547327112675),\n",
       " ('firm', 0.033580229689354354),\n",
       " ('company', 0.028662725820873522),\n",
       " ('economy', 0.028304835999080867),\n",
       " ('growth', 0.026744526394961658),\n",
       " ('analyst', 0.0261315936348229),\n",
       " ('oil', 0.02573301921190415),\n",
       " ('investment', 0.022058413010645962),\n",
       " ('price', 0.021292561468628516)]"
      ]
     },
     "execution_count": 36,
     "metadata": {},
     "output_type": "execute_result"
    }
   ],
   "source": [
    "sorted_feature_weight_idxes = np.argsort(clf.feature_importances_)[::-1]\n",
    "\n",
    "most_important_features = np.take_along_axis(np.array(cv.get_feature_names()), sorted_feature_weight_idxes, axis=0)\n",
    "most_important_weights = np.take_along_axis(np.array(clf.feature_importances_), sorted_feature_weight_idxes, axis=0)\n",
    "list(zip(most_important_features, most_important_weights))[:10]"
   ]
  },
  {
   "cell_type": "markdown",
   "id": "403971cb",
   "metadata": {},
   "source": [
    "From the same cloned repository, you can instantiate the class `KMeansInterp` and set the `feature_importance_method` parameter as follows"
   ]
  },
  {
   "cell_type": "code",
   "execution_count": 38,
   "id": "06b1a61d",
   "metadata": {},
   "outputs": [],
   "source": [
    "from kmeans_interp.kmeans_feature_imp import KMeansInterp\n",
    "\n",
    "kms = KMeansInterp(n_clusters=len(categories), \n",
    "                   random_state=1, \n",
    "                   ordered_feature_names=cv.get_feature_names(), \n",
    "                   feature_importance_method='unsup2sup',\n",
    "                  ).fit(cv_matrix)\n",
    "labels = kms.labels_\n",
    "df['Cluster'] = labels"
   ]
  },
  {
   "cell_type": "markdown",
   "id": "fec7cc13",
   "metadata": {},
   "source": [
    "Let's do the same thing we did above and look at the most important features for each cluster"
   ]
  },
  {
   "cell_type": "markdown",
   "id": "c4085570",
   "metadata": {},
   "source": [
    "![Figure 5](./images/politics_tech_business_enter_unsup2sup.png)"
   ]
  },
  {
   "cell_type": "markdown",
   "id": "32fa436c",
   "metadata": {},
   "source": [
    "![Figure 5](./images/sports_unsup2sup.png)"
   ]
  },
  {
   "cell_type": "code",
   "execution_count": 25,
   "id": "d8f5f513",
   "metadata": {
    "scrolled": false
   },
   "outputs": [],
   "source": [
    "# for cluster_label, feature_weights in kms.feature_importances_.items():    \n",
    "#     df_feature_weight = pd.DataFrame(feature_weights[:15], columns=[\"Feature\", \"Weight\"])\n",
    "#     fig, ax = plt.subplots(figsize=(14,6))\n",
    "#     sns.barplot(x=\"Feature\", y=\"Weight\", data=df_feature_weight)\n",
    "#     plt.xticks(rotation=-45, ha=\"left\");\n",
    "#     ax.tick_params(axis='both', which='major', labelsize=22)\n",
    "#     plt.title(f'Highest Weight Features in Cluster {cluster_label}', fontsize='xx-large')\n",
    "#     plt.xlabel('Feature', fontsize=18)\n",
    "#     plt.ylabel('Weight', fontsize=18)\n",
    "\n",
    "#     plt.show();\n",
    "    \n",
    "#     print('\\n\\n')"
   ]
  },
  {
   "cell_type": "markdown",
   "id": "31fab5e3",
   "metadata": {},
   "source": [
    "# Conclusion\n",
    "Clustering Interpretability becomes crucial when truth labels are not available at development time. It not only prevents data scientist from a direct evaluation of clustering validity due to the nature of internal validation indexes, but also obstructs a simple and intuitive explanation of cluster performance to stakeholders. We have presented two possible approaches that aims to tackle this through through extracting a cluster-based feature importance which allows us to know why that cluster has been chosen by K-Means algorithm to be as such. The approach extends itself to stakeholder communication, simple and quick evaluation, cluster-based Keyword Extraction in NLP, as well as a general feature selection technique.\n",
    "\n",
    "The notebook for this code and KMeansInterp class can be found in [this repository](https://github.com/YousefGh/kmeans-feature-importance)"
   ]
  },
  {
   "cell_type": "markdown",
   "id": "58b2d3a7",
   "metadata": {},
   "source": [
    "#### References\n",
    "\n",
    "1. Y. Liu, Z. Li, H. Xiong, X. Gao and J. Wu, \"Understanding of Internal Clustering Validation Measures,\" 2010 IEEE International Conference on Data Mining, 2010, pp. 911-916, doi: 10.1109/ICDM.2010.35.\n",
    "\n",
    "2. Kriegel, HP., Schubert, E. & Zimek, A. The (black) art of runtime evaluation: Are we comparing algorithms or implementations?. Knowl Inf Syst 52, 341–378 (2017). https://doi.org/10.1007/s10115-016-1004-2\n",
    "\n",
    "3. Ng, A., & Piech, C. (2021). CS221. Retrieved 18 July 2021, from https://stanford.edu/~cpiech/cs221/handouts/kmeans.html\n",
    "\n",
    "4. Ismaili, Oumaima & Lemaire, Vincent & Cornuéjols, Antoine. (2014). A Supervised Methodology to Measure the Variables Contribution to a Clustering. 159-166. 10.1007/978-3-319-12637-1_20. "
   ]
  }
 ],
 "metadata": {
  "kernelspec": {
   "display_name": "Python 3",
   "language": "python",
   "name": "python3"
  },
  "language_info": {
   "codemirror_mode": {
    "name": "ipython",
    "version": 3
   },
   "file_extension": ".py",
   "mimetype": "text/x-python",
   "name": "python",
   "nbconvert_exporter": "python",
   "pygments_lexer": "ipython3",
   "version": "3.7.9"
  }
 },
 "nbformat": 4,
 "nbformat_minor": 5
}
